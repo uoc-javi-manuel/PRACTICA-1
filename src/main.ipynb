{
 "cells": [
  {
   "cell_type": "markdown",
   "id": "6c7ddad5",
   "metadata": {},
   "source": [
    "PRACTICA REALIZADA POR:\n",
    "\n",
    " * Manuel Cubertorer Gumbau\n",
    " * Francisco Javier Corrales Estrella\n",
    " \n",
    "En la asignatura de Tipologia y ciclo de vida de los datos de Universidad Oberta Catalunya\n",
    "Octubre 2021"
   ]
  },
  {
   "cell_type": "markdown",
   "id": "28c1bb5a",
   "metadata": {},
   "source": [
    "**Evaluación inicial**\n",
    "\n",
    "* ROBOTS.txt:\n",
    "En primer lugar inspeccionamos el fichero robots.txt para ver la política sobre rastreos. El fichero no existe por lo que entendemos que el propietario del sitio web permite rastrear toda la página sin ningún tipo de restricción.\n",
    "\n",
    "* Mapa del sitio web (sitemap.xml).\n",
    "\n",
    "* Tamaño\n",
    "\n",
    "* Tecnología usada\n"
   ]
  },
  {
   "cell_type": "code",
   "execution_count": 34,
   "id": "988bb0db",
   "metadata": {},
   "outputs": [
    {
     "data": {
      "text/plain": [
       "{'javascript-frameworks': ['AngularJS', 'Modernizr', 'jQuery'],\n",
       " 'javascript-graphics': ['D3', 'Highcharts'],\n",
       " 'font-scripts': ['Google Font API'],\n",
       " 'web-frameworks': ['Twitter Bootstrap']}"
      ]
     },
     "execution_count": 34,
     "metadata": {},
     "output_type": "execute_result"
    }
   ],
   "source": [
    "\n",
    "import builtwith\n",
    "builtwith.parse('https://demanda.ree.es/visiona/peninsula/demanda/tablas/2021-10-23/1')\n"
   ]
  },
  {
   "cell_type": "markdown",
   "id": "0e0e1dbf",
   "metadata": {},
   "source": [
    "Inicialmente, vamos a intentar inspeccionar la página usando BeatifulSoup, pero como hemos podido comprobar en el apartado anterior, la página tiene contenido en javascript y lo mas probable es que el contenido dinámico no lo podamos rastrear con esta técnica."
   ]
  },
  {
   "cell_type": "code",
   "execution_count": 2,
   "id": "a6d2d848",
   "metadata": {},
   "outputs": [],
   "source": [
    "import requests\n",
    "\n",
    "# Petición a la página web\n",
    "#url principal\n",
    "#TODO Navegar desde la pagina principal al dia de hoy\n",
    "#url = \"https://demanda.ree.es/visiona/peninsula/demanda/total\"\n",
    "url = \"https://demanda.ree.es/visiona/peninsula/demanda/tablas/2021-10-23/1\"\n",
    "page = requests.get(url)\n",
    "\n",
    "# Lectura del html del response\n",
    "from bs4 import BeautifulSoup\n",
    "soup = BeautifulSoup(page.content)\n"
   ]
  },
  {
   "cell_type": "markdown",
   "id": "fd8ab964",
   "metadata": {},
   "source": [
    "Efectivamente, el contenido del html que se carga mediante BeatifulSoup no es lo mismo que vemos explorando la web con las devtools de Chrome. Pasamos a utilizar otra técnica como Selenium"
   ]
  },
  {
   "cell_type": "code",
   "execution_count": 5,
   "id": "62e0133a",
   "metadata": {
    "scrolled": false
   },
   "outputs": [
    {
     "name": "stderr",
     "output_type": "stream",
     "text": [
      "<ipython-input-5-f182a8709641>:16: DeprecationWarning: executable_path has been deprecated, please pass in a Service object\n",
      "  driver = webdriver.Chrome(driver_path)\n"
     ]
    },
    {
     "name": "stdout",
     "output_type": "stream",
     "text": [
      "hoja 0\n"
     ]
    },
    {
     "name": "stderr",
     "output_type": "stream",
     "text": [
      "<ipython-input-5-f182a8709641>:35: DeprecationWarning: find_element_by_* commands are deprecated. Please use find_element() instead\n",
      "  element_diahora = driver.find_element_by_xpath(xpath_diahora)\n",
      "<ipython-input-5-f182a8709641>:43: DeprecationWarning: find_element_by_* commands are deprecated. Please use find_element() instead\n",
      "  element_real = driver.find_element_by_xpath(xpath_real)\n",
      "<ipython-input-5-f182a8709641>:48: DeprecationWarning: find_element_by_* commands are deprecated. Please use find_element() instead\n",
      "  element_prevista = driver.find_element_by_xpath(xpath_prevista)\n",
      "<ipython-input-5-f182a8709641>:53: DeprecationWarning: find_element_by_* commands are deprecated. Please use find_element() instead\n",
      "  element_programada = driver.find_element_by_xpath(xpath_programada)\n"
     ]
    },
    {
     "name": "stdout",
     "output_type": "stream",
     "text": [
      "hoja 1\n",
      "hoja 2\n",
      "hoja 3\n",
      "hoja 4\n"
     ]
    }
   ],
   "source": [
    "from selenium import webdriver\n",
    "from selenium.webdriver.support.ui import WebDriverWait\n",
    "from selenium.webdriver.support import expected_conditions as EC\n",
    "from selenium.webdriver.common.by import By\n",
    "import time\n",
    "import pandas as pd\n",
    "\n",
    "#opciones de navegacion\n",
    "options = webdriver.ChromeOptions()\n",
    "options.add_argument('--start-maximized')\n",
    "options.add_argument('--disable-extensions')\n",
    "\n",
    "driver_path = '/home/fjcorrales/Master Ciencia de datos/tipologia y ciclo de vida de los datos/PRACTICA-1/lib/chromedriver_linux64/chromedriver'\n",
    "\n",
    "#Abrimos el navegador\n",
    "driver = webdriver.Chrome(driver_path)\n",
    "\n",
    "#Navegamos a la url\n",
    "driver.get(url)\n",
    "\n",
    "#Inicializamos los arrays para almacenar las variables\n",
    "dias = list()\n",
    "horas = list()\n",
    "lectura_real = list()\n",
    "lectura_prevista = list()\n",
    "lectura_programada = list()\n",
    "\n",
    "#Navegamos por los 30 dias anteriores\n",
    "for i in range(5):            \n",
    "    print(\"hoja\",i)  \n",
    "    # Leemos la información por horas    \n",
    "    for t in range(2,146):\n",
    "        #dia hora\n",
    "        xpath_diahora = \"/html/body/div/md-content/div/section/div[2]/div[2]/table[1]/tbody/tr[\"+ str(t) +\"]/td[1]\"\n",
    "        element_diahora = driver.find_element_by_xpath(xpath_diahora)\n",
    "        dia = element_diahora.text.split()[0]\n",
    "        hora = element_diahora.text.split()[1]\n",
    "        dias.append(dia)\n",
    "        horas.append(hora)\n",
    "\n",
    "        #Real\n",
    "        xpath_real = \"/html/body/div/md-content/div/section/div[2]/div[2]/table[1]/tbody/tr[\"+ str(t) +\"]/td[2]\"\n",
    "        element_real = driver.find_element_by_xpath(xpath_real)\n",
    "        lectura_real.append(element_real.text)\n",
    "\n",
    "        #Prevista\n",
    "        xpath_prevista = \"/html/body/div/md-content/div/section/div[2]/div[2]/table[1]/tbody/tr[\"+ str(t) +\"]/td[3]\"\n",
    "        element_prevista = driver.find_element_by_xpath(xpath_prevista)\n",
    "        lectura_prevista.append(element_prevista.text)\n",
    "\n",
    "        #Programada\n",
    "        xpath_programada = \"/html/body/div/md-content/div/section/div[2]/div[2]/table[1]/tbody/tr[\"+ str(t) +\"]/td[4]\"\n",
    "        element_programada = driver.find_element_by_xpath(xpath_programada)\n",
    "        lectura_programada.append(element_programada.text)\n",
    "\n",
    "        #print(dia, hora, lectura_real, lectura_prevista,lectura_programada)  \n",
    "\n",
    "    # Pulsamos click para navegar al dia anterior\n",
    "    wait = WebDriverWait(driver, 5)\n",
    "    elementButton = wait.until(EC.element_to_be_clickable((By.CSS_SELECTOR, 'button.md-icon-button main-menu md-button md-ink-ripple'.replace(' ','.'))))\n",
    "    elementButton.click()\n",
    "\n",
    "\n",
    "#Construimos el dataframe\n",
    "df = pd.DataFrame({'Fecha': dias, 'Hora': horas, 'Lectura Real': lectura_real, 'Lectura_prevista': lectura_prevista, 'Lectura_programada': lectura_programada})"
   ]
  },
  {
   "cell_type": "code",
   "execution_count": 6,
   "id": "6540ad32",
   "metadata": {},
   "outputs": [
    {
     "data": {
      "text/html": [
       "<div>\n",
       "<style scoped>\n",
       "    .dataframe tbody tr th:only-of-type {\n",
       "        vertical-align: middle;\n",
       "    }\n",
       "\n",
       "    .dataframe tbody tr th {\n",
       "        vertical-align: top;\n",
       "    }\n",
       "\n",
       "    .dataframe thead th {\n",
       "        text-align: right;\n",
       "    }\n",
       "</style>\n",
       "<table border=\"1\" class=\"dataframe\">\n",
       "  <thead>\n",
       "    <tr style=\"text-align: right;\">\n",
       "      <th></th>\n",
       "      <th>Fecha</th>\n",
       "      <th>Hora</th>\n",
       "      <th>Lectura Real</th>\n",
       "      <th>Lectura_prevista</th>\n",
       "      <th>Lectura_programada</th>\n",
       "    </tr>\n",
       "  </thead>\n",
       "  <tbody>\n",
       "    <tr>\n",
       "      <th>0</th>\n",
       "      <td>2021-10-22</td>\n",
       "      <td>21:00</td>\n",
       "      <td>29.690</td>\n",
       "      <td>29.744</td>\n",
       "      <td>29.024</td>\n",
       "    </tr>\n",
       "    <tr>\n",
       "      <th>1</th>\n",
       "      <td>2021-10-22</td>\n",
       "      <td>21:10</td>\n",
       "      <td>29.426</td>\n",
       "      <td>29.470</td>\n",
       "      <td>29.024</td>\n",
       "    </tr>\n",
       "    <tr>\n",
       "      <th>2</th>\n",
       "      <td>2021-10-22</td>\n",
       "      <td>21:20</td>\n",
       "      <td>29.186</td>\n",
       "      <td>29.171</td>\n",
       "      <td>29.024</td>\n",
       "    </tr>\n",
       "    <tr>\n",
       "      <th>3</th>\n",
       "      <td>2021-10-22</td>\n",
       "      <td>21:30</td>\n",
       "      <td>28.958</td>\n",
       "      <td>28.848</td>\n",
       "      <td>29.024</td>\n",
       "    </tr>\n",
       "    <tr>\n",
       "      <th>4</th>\n",
       "      <td>2021-10-22</td>\n",
       "      <td>21:40</td>\n",
       "      <td>28.416</td>\n",
       "      <td>28.501</td>\n",
       "      <td>29.024</td>\n",
       "    </tr>\n",
       "    <tr>\n",
       "      <th>5</th>\n",
       "      <td>2021-10-22</td>\n",
       "      <td>21:50</td>\n",
       "      <td>28.107</td>\n",
       "      <td>28.130</td>\n",
       "      <td>29.024</td>\n",
       "    </tr>\n",
       "    <tr>\n",
       "      <th>6</th>\n",
       "      <td>2021-10-22</td>\n",
       "      <td>22:00</td>\n",
       "      <td>27.253</td>\n",
       "      <td>27.733</td>\n",
       "      <td>26.637</td>\n",
       "    </tr>\n",
       "    <tr>\n",
       "      <th>7</th>\n",
       "      <td>2021-10-22</td>\n",
       "      <td>22:10</td>\n",
       "      <td>27.143</td>\n",
       "      <td>27.327</td>\n",
       "      <td>26.637</td>\n",
       "    </tr>\n",
       "    <tr>\n",
       "      <th>8</th>\n",
       "      <td>2021-10-22</td>\n",
       "      <td>22:20</td>\n",
       "      <td>26.598</td>\n",
       "      <td>26.922</td>\n",
       "      <td>26.637</td>\n",
       "    </tr>\n",
       "    <tr>\n",
       "      <th>9</th>\n",
       "      <td>2021-10-22</td>\n",
       "      <td>22:30</td>\n",
       "      <td>26.403</td>\n",
       "      <td>26.519</td>\n",
       "      <td>26.637</td>\n",
       "    </tr>\n",
       "  </tbody>\n",
       "</table>\n",
       "</div>"
      ],
      "text/plain": [
       "        Fecha   Hora Lectura Real Lectura_prevista Lectura_programada\n",
       "0  2021-10-22  21:00       29.690           29.744             29.024\n",
       "1  2021-10-22  21:10       29.426           29.470             29.024\n",
       "2  2021-10-22  21:20       29.186           29.171             29.024\n",
       "3  2021-10-22  21:30       28.958           28.848             29.024\n",
       "4  2021-10-22  21:40       28.416           28.501             29.024\n",
       "5  2021-10-22  21:50       28.107           28.130             29.024\n",
       "6  2021-10-22  22:00       27.253           27.733             26.637\n",
       "7  2021-10-22  22:10       27.143           27.327             26.637\n",
       "8  2021-10-22  22:20       26.598           26.922             26.637\n",
       "9  2021-10-22  22:30       26.403           26.519             26.637"
      ]
     },
     "execution_count": 6,
     "metadata": {},
     "output_type": "execute_result"
    }
   ],
   "source": [
    "df.head(10)"
   ]
  }
 ],
 "metadata": {
  "kernelspec": {
   "display_name": "Python 3",
   "language": "python",
   "name": "python3"
  },
  "language_info": {
   "codemirror_mode": {
    "name": "ipython",
    "version": 3
   },
   "file_extension": ".py",
   "mimetype": "text/x-python",
   "name": "python",
   "nbconvert_exporter": "python",
   "pygments_lexer": "ipython3",
   "version": "3.8.8"
  }
 },
 "nbformat": 4,
 "nbformat_minor": 5
}
